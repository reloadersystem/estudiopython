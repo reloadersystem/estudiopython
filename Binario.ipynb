{
 "cells": [
  {
   "cell_type": "code",
   "execution_count": 15,
   "metadata": {},
   "outputs": [
    {
     "name": "stdout",
     "output_type": "stream",
     "text": [
      "que numero buscas?15\n",
      "False\n"
     ]
    }
   ],
   "source": [
    "import random\n",
    "\n",
    "def binary_search(data, target, low, high):\n",
    "    if low > high:\n",
    "        return False\n",
    "    \n",
    "    mid = (low + high)//2\n",
    "    \n",
    "    if target == data[mid]:\n",
    "        return True\n",
    "    elif target < data[mid]:\n",
    "        return binary_search(data, target, low, mid -1)\n",
    "    else:\n",
    "        return binary_search(data, target, mid +1 , high)\n",
    "        \n",
    "\n",
    "if  __name__ == '__main__':\n",
    "    data = [random.randint(0,100) for i in range(10)]\n",
    "    #print(data)\n",
    "    \n",
    "    sorted_data = sorted(data)\n",
    "    #print(sorted_data)\n",
    "    \n",
    "    target = int(input(\"que numero buscas?\"))\n",
    "    found = binary_search(data, target, 0, len(data)- 1)\n",
    "    \n",
    "    \n",
    "    print(found)\n",
    "\n",
    "\n"
   ]
  },
  {
   "cell_type": "code",
   "execution_count": null,
   "metadata": {},
   "outputs": [],
   "source": []
  }
 ],
 "metadata": {
  "kernelspec": {
   "display_name": "Python 3",
   "language": "python",
   "name": "python3"
  },
  "language_info": {
   "codemirror_mode": {
    "name": "ipython",
    "version": 3
   },
   "file_extension": ".py",
   "mimetype": "text/x-python",
   "name": "python",
   "nbconvert_exporter": "python",
   "pygments_lexer": "ipython3",
   "version": "3.8.5"
  }
 },
 "nbformat": 4,
 "nbformat_minor": 4
}
