{
 "cells": [
  {
   "cell_type": "code",
   "execution_count": 8,
   "metadata": {},
   "outputs": [
    {
     "name": "stdout",
     "output_type": "stream",
     "text": [
      "Welcome to Monares POS\n",
      "**************************************************\n",
      "what would you like to do today?\n",
      "[L]ist client\n",
      "[C]reate client\n",
      "[U]pdate client\n",
      "[D]elete client\n",
      "[S]earch client\n",
      "L\n",
      "0:Pablo\n",
      "1:Ricardo\n",
      "invalid command\n"
     ]
    }
   ],
   "source": [
    "import sys\n",
    "\n",
    "clients = [\n",
    "    {\n",
    "        'name':'Pablo',\n",
    "        'company':'Google',\n",
    "        'email':'pablo@google.com',\n",
    "        'position':'sofware engineer'\n",
    "    },\n",
    "    {\n",
    "        'name':'Ricardo',\n",
    "        'company':'Facebook',\n",
    "        'email':'pablo@facebook.com',\n",
    "        'position':'Data engineer'\n",
    "    }\n",
    "]\n",
    "\n",
    "def create_client(client):\n",
    "    global clients\n",
    "    \n",
    "    if client_name not in clients:\n",
    "        clients.append(client)\n",
    "    else:\n",
    "        print(\"Cliente existente \\'ok'\")\n",
    "        \n",
    "def _get_client_name():\n",
    "    client_name = None\n",
    "    while not client_name:\n",
    "        client_name = input(\"what is the client name?\")\n",
    "        if client_name == 'exit':\n",
    "            client_name = None\n",
    "            break\n",
    "            \n",
    "    #if not client_name:\n",
    "      #  sys.exit()\n",
    "            \n",
    "    return client_name\n",
    "\n",
    "def list_clients():\n",
    "    for idx, client in enumerate(clients):\n",
    "        print('{}:{}'.format(idx,client))\n",
    "    \n",
    "\n",
    "def updated_client_name(client_name,update_name):\n",
    "    global clients\n",
    "    if client_name in clients:\n",
    "        index = clients.index(client_name)\n",
    "        clients[index] = update_name\n",
    "    else:\n",
    "        print(\"client is not in client\")\n",
    "        \n",
    "def deleted_client_name(client_name):\n",
    "    global clients\n",
    "    if client_name in clients:\n",
    "        clients.remove(client_name)\n",
    "        pass\n",
    "    else:\n",
    "        print(\"clien is not in client\")\n",
    "\n",
    "def search_client(client_name):\n",
    "    for client in clients:\n",
    "        if client != client_name:\n",
    "            continue\n",
    "        else:\n",
    "            return True\n",
    "    \n",
    "def _print_welcome(): \n",
    "    print ('Welcome to Monares POS')\n",
    "    print ('*' * 50)\n",
    "    print ('what would you like to do today?')\n",
    "    print ('[L]ist client')\n",
    "    print ('[C]reate client')\n",
    "    print ('[U]pdate client')\n",
    "    print ('[D]elete client')\n",
    "    print ('[S]earch client')\n",
    "    \n",
    "if __name__=='__main__':\n",
    "    _print_welcome()\n",
    "    \n",
    "    command = input()\n",
    "    command = command.upper()\n",
    "    \n",
    "    if command == 'L':\n",
    "        list_clients()\n",
    "    \n",
    "    if command == 'C':\n",
    "        client = {\n",
    "            'name': _get_client_name()\n",
    "        }\n",
    "        \n",
    "    elif command == 'D':\n",
    "        client_name = _get_client_name()\n",
    "        deleted_client_name(client_name)\n",
    "        list_clients()\n",
    "    \n",
    "    elif command == \"U\":\n",
    "        client_name = _get_client_name() \n",
    "        update_client_name = input('what is  the  update client name ')\n",
    "        updated_client_name(client_name , update_client_name)\n",
    "        list_clients()\n",
    "    \n",
    "    elif command == \"S\":\n",
    "        client_name = _get_client_name() \n",
    "        found = search_client(client_name)\n",
    "        if found:\n",
    "            print(\"client encontrado {}\".format(client_name))\n",
    "        else:\n",
    "            print(\"no encontrado {}\".format(client_name))\n",
    "        \n",
    "    else:\n",
    "        print(\"invalid command\")\n",
    "        "
   ]
  },
  {
   "cell_type": "code",
   "execution_count": 11,
   "metadata": {},
   "outputs": [],
   "source": [
    " clients.remove(\"Ricardo\")"
   ]
  },
  {
   "cell_type": "code",
   "execution_count": 14,
   "metadata": {},
   "outputs": [
    {
     "data": {
      "text/plain": [
       "True"
      ]
     },
     "execution_count": 14,
     "metadata": {},
     "output_type": "execute_result"
    }
   ],
   "source": [
    "\"Pablo\" in clients"
   ]
  },
  {
   "cell_type": "code",
   "execution_count": null,
   "metadata": {},
   "outputs": [],
   "source": []
  }
 ],
 "metadata": {
  "kernelspec": {
   "display_name": "Python 3",
   "language": "python",
   "name": "python3"
  },
  "language_info": {
   "codemirror_mode": {
    "name": "ipython",
    "version": 3
   },
   "file_extension": ".py",
   "mimetype": "text/x-python",
   "name": "python",
   "nbconvert_exporter": "python",
   "pygments_lexer": "ipython3",
   "version": "3.8.5"
  }
 },
 "nbformat": 4,
 "nbformat_minor": 4
}
