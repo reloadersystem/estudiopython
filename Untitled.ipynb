{
 "cells": [
  {
   "cell_type": "code",
   "execution_count": 3,
   "metadata": {},
   "outputs": [],
   "source": [
    "clients = [\n",
    "    {\n",
    "        'name':'Pablo',\n",
    "        'company':'Google',\n",
    "        'email':'pablo@google.com',\n",
    "        'position':'sofware engineer'\n",
    "    },\n",
    "    {\n",
    "        'name':'Ricardo',\n",
    "        'company':'Facebook',\n",
    "        'email':'pablo@facebook.com',\n",
    "        'position':'Data engineer'\n",
    "    }\n",
    "]\n"
   ]
  },
  {
   "cell_type": "code",
   "execution_count": 4,
   "metadata": {},
   "outputs": [
    {
     "name": "stdout",
     "output_type": "stream",
     "text": [
      "[{'name': 'Pablo', 'company': 'Google', 'email': 'pablo@google.com', 'position': 'sofware engineer'}, {'name': 'Ricardo', 'company': 'Facebook', 'email': 'pablo@facebook.com', 'position': 'Data engineer'}]\n"
     ]
    }
   ],
   "source": [
    "print(clients)"
   ]
  },
  {
   "cell_type": "code",
   "execution_count": null,
   "metadata": {},
   "outputs": [],
   "source": []
  }
 ],
 "metadata": {
  "kernelspec": {
   "display_name": "Python 3",
   "language": "python",
   "name": "python3"
  },
  "language_info": {
   "codemirror_mode": {
    "name": "ipython",
    "version": 3
   },
   "file_extension": ".py",
   "mimetype": "text/x-python",
   "name": "python",
   "nbconvert_exporter": "python",
   "pygments_lexer": "ipython3",
   "version": "3.8.5"
  }
 },
 "nbformat": 4,
 "nbformat_minor": 4
}
