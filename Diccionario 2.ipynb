{
 "cells": [
  {
   "cell_type": "code",
   "execution_count": 45,
   "metadata": {},
   "outputs": [],
   "source": [
    "clients = [\n",
    "    {\n",
    "        'name':'Pablo',\n",
    "        'company':'Google',\n",
    "        'email':'pablo@google.com',\n",
    "        'position':'sofware engineer'\n",
    "    },\n",
    "    {\n",
    "        'name':'Ricardo',\n",
    "        'company':'Facebook',\n",
    "        'email':'pablo@facebook.com',\n",
    "        'position':'Data engineer'\n",
    "    }\n",
    "]"
   ]
  },
  {
   "cell_type": "code",
   "execution_count": 68,
   "metadata": {},
   "outputs": [],
   "source": [
    "admin = {\n",
    "    'name':'Edson',\n",
    "    'company':'Facebook',\n",
    "    'email':'pablo@facebook.com',\n",
    "    'position':'Data engineer'\n",
    "} "
   ]
  },
  {
   "cell_type": "code",
   "execution_count": 69,
   "metadata": {},
   "outputs": [],
   "source": [
    "clients.append(admin)"
   ]
  },
  {
   "cell_type": "code",
   "execution_count": 70,
   "metadata": {},
   "outputs": [
    {
     "name": "stdout",
     "output_type": "stream",
     "text": [
      "[{'name': 'Pablo', 'company': 'Google', 'email': 'pablo@google.com', 'position': 'sofware engineer'}, {'name': 'Ricardo', 'company': 'Facebook', 'email': 'pablo@facebook.com', 'position': 'Data engineer'}, {'name': 'Edson', 'company': 'Facebook', 'email': 'pablo@facebook.com', 'position': 'Data engineer'}]\n"
     ]
    }
   ],
   "source": [
    "print(clients)"
   ]
  },
  {
   "cell_type": "code",
   "execution_count": 19,
   "metadata": {},
   "outputs": [],
   "source": [
    "def create_client(client):\n",
    "    global clients\n",
    "    \n",
    "    if client not in clients:\n",
    "        clients.append(client)\n",
    "    else:\n",
    "        print(\"Cliente existente \\'ok'\")"
   ]
  },
  {
   "cell_type": "code",
   "execution_count": 56,
   "metadata": {},
   "outputs": [
    {
     "name": "stdout",
     "output_type": "stream",
     "text": [
      "Cliente existente 'ok'\n"
     ]
    }
   ],
   "source": [
    "if admin not in clients:\n",
    "    print(\"Cliente no existente \\'ok'\")\n",
    "else:\n",
    "    print(\"Cliente existente \\'ok'\")"
   ]
  },
  {
   "cell_type": "code",
   "execution_count": 58,
   "metadata": {},
   "outputs": [],
   "source": [
    "def _get_client_field(field_name):\n",
    "    field = None\n",
    "    \n",
    "    while not field:\n",
    "        field = input('What is the client {}?'.format(field_name))\n",
    "    return field"
   ]
  },
  {
   "cell_type": "code",
   "execution_count": 66,
   "metadata": {},
   "outputs": [
    {
     "name": "stdout",
     "output_type": "stream",
     "text": [
      "What is the client name?angel\n",
      "What is the client company?di maria\n",
      "What is the client company?carlitos\n",
      "What is the client position?suarez\n"
     ]
    }
   ],
   "source": [
    "client = {\n",
    "            'name': _get_client_field('name'),\n",
    "            'company': _get_client_field('company'),\n",
    "            'email': _get_client_field('company'),\n",
    "            'position': _get_client_field('position')\n",
    "        }"
   ]
  },
  {
   "cell_type": "code",
   "execution_count": 60,
   "metadata": {},
   "outputs": [],
   "source": [
    "client['name'] = 'mario'"
   ]
  },
  {
   "cell_type": "code",
   "execution_count": 67,
   "metadata": {},
   "outputs": [
    {
     "data": {
      "text/plain": [
       "{'name': 'angel',\n",
       " 'company': 'di maria',\n",
       " 'email': 'carlitos',\n",
       " 'position': 'suarez'}"
      ]
     },
     "execution_count": 67,
     "metadata": {},
     "output_type": "execute_result"
    }
   ],
   "source": [
    "client"
   ]
  },
  {
   "cell_type": "code",
   "execution_count": 71,
   "metadata": {},
   "outputs": [
    {
     "name": "stdout",
     "output_type": "stream",
     "text": [
      "0 | Google | pablo@google.com | sofware engineer\n",
      "1 | Facebook | pablo@facebook.com | Data engineer\n",
      "2 | Facebook | pablo@facebook.com | Data engineer\n"
     ]
    }
   ],
   "source": [
    " for idx, client in enumerate(clients):\n",
    "        print('{uid} | {company} | {email} | {position}'. format(\n",
    "            uid= idx,\n",
    "            name=client['name'],\n",
    "            company=client['company'],\n",
    "            email=client['email'],\n",
    "            position=client['position']\n",
    "         )) "
   ]
  },
  {
   "cell_type": "code",
   "execution_count": null,
   "metadata": {},
   "outputs": [],
   "source": []
  }
 ],
 "metadata": {
  "kernelspec": {
   "display_name": "Python 3",
   "language": "python",
   "name": "python3"
  },
  "language_info": {
   "codemirror_mode": {
    "name": "ipython",
    "version": 3
   },
   "file_extension": ".py",
   "mimetype": "text/x-python",
   "name": "python",
   "nbconvert_exporter": "python",
   "pygments_lexer": "ipython3",
   "version": "3.8.5"
  }
 },
 "nbformat": 4,
 "nbformat_minor": 4
}
